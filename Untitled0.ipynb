{
  "nbformat": 4,
  "nbformat_minor": 0,
  "metadata": {
    "colab": {
      "provenance": [],
      "authorship_tag": "ABX9TyMchuo6y5NfbPZie1DKVIk9",
      "include_colab_link": true
    },
    "kernelspec": {
      "name": "python3",
      "display_name": "Python 3"
    },
    "language_info": {
      "name": "python"
    }
  },
  "cells": [
    {
      "cell_type": "markdown",
      "metadata": {
        "id": "view-in-github",
        "colab_type": "text"
      },
      "source": [
        "<a href=\"https://colab.research.google.com/github/guaravgurjar/26july/blob/main/Untitled0.ipynb\" target=\"_parent\"><img src=\"https://colab.research.google.com/assets/colab-badge.svg\" alt=\"Open In Colab\"/></a>"
      ]
    },
    {
      "cell_type": "code",
      "execution_count": null,
      "metadata": {
        "colab": {
          "base_uri": "https://localhost:8080/"
        },
        "id": "OmuU0H578if_",
        "outputId": "e6c59ced-a777-43a2-f95c-1879063bac06"
      },
      "outputs": [
        {
          "output_type": "stream",
          "name": "stdout",
          "text": [
            "hello world hey user\n"
          ]
        }
      ],
      "source": [
        "print(\"hello world\", end=\" \")\n",
        "print(\"hey user\")"
      ]
    },
    {
      "cell_type": "code",
      "source": [
        "x=100\n",
        "print(x, type(x)) #type use to find type of data"
      ],
      "metadata": {
        "colab": {
          "base_uri": "https://localhost:8080/"
        },
        "id": "X-dwvQmP9l8a",
        "outputId": "1d8fe158-8c56-4e40-9ac1-10ba82e62396"
      },
      "execution_count": null,
      "outputs": [
        {
          "output_type": "stream",
          "name": "stdout",
          "text": [
            "100 <class 'int'>\n"
          ]
        }
      ]
    },
    {
      "cell_type": "code",
      "source": [
        "address=\"\"\"12,abc\n",
        "jaipur\n",
        "rajasthan\"\"\"\n",
        "print(address)   #\"\"\" used to make multiline strings"
      ],
      "metadata": {
        "colab": {
          "base_uri": "https://localhost:8080/"
        },
        "id": "F0_21RI2-l5l",
        "outputId": "6c93d47b-5285-4fd9-b2c6-a1610b5b5148"
      },
      "execution_count": null,
      "outputs": [
        {
          "output_type": "stream",
          "name": "stdout",
          "text": [
            "12,abc\n",
            "jaipur\n",
            "rajasthan\n"
          ]
        }
      ]
    },
    {
      "cell_type": "code",
      "source": [
        "# string formatting\n",
        "age=19\n",
        "name=\"gaurav\"\n",
        "\n",
        "print(\"age is \",age, \"name is\",name)"
      ],
      "metadata": {
        "colab": {
          "base_uri": "https://localhost:8080/"
        },
        "id": "nIRuu_7__0v7",
        "outputId": "362cf5f0-41a6-4fe3-fb09-c6254683b52e"
      },
      "execution_count": null,
      "outputs": [
        {
          "output_type": "stream",
          "name": "stdout",
          "text": [
            "age is  19 name is gaurav\n"
          ]
        }
      ]
    },
    {
      "cell_type": "code",
      "source": [
        "age=19\n",
        "name=\"gaurav\"\n",
        "print(f\"age is {age} name is {name}\")"
      ],
      "metadata": {
        "colab": {
          "base_uri": "https://localhost:8080/"
        },
        "id": "JWHSVkkdBG6S",
        "outputId": "e4dca159-6338-4bcc-fab3-d70c71670acf"
      },
      "execution_count": null,
      "outputs": [
        {
          "output_type": "stream",
          "name": "stdout",
          "text": [
            "age is 19 name is gaurav\n"
          ]
        }
      ]
    },
    {
      "cell_type": "code",
      "source": [
        " # to check memory address\n",
        "x=10\n",
        "print(id(x), x)\n",
        "\n",
        "y=x\n",
        "print(id(y), \"y\")"
      ],
      "metadata": {
        "colab": {
          "base_uri": "https://localhost:8080/"
        },
        "id": "zTIhcHOABSNH",
        "outputId": "885e8989-16f3-412e-c455-661a580fcf86"
      },
      "execution_count": null,
      "outputs": [
        {
          "output_type": "stream",
          "name": "stdout",
          "text": [
            "135325707797008 10\n",
            "135325707797008 y\n"
          ]
        }
      ]
    },
    {
      "cell_type": "code",
      "source": [
        "x=20\n",
        "print(x, id(x))\n",
        "print(y,id(y))"
      ],
      "metadata": {
        "colab": {
          "base_uri": "https://localhost:8080/"
        },
        "id": "p90sztCBC3cL",
        "outputId": "4526aba4-2c70-4cba-fdce-8f27ccb4f077"
      },
      "execution_count": null,
      "outputs": [
        {
          "output_type": "stream",
          "name": "stdout",
          "text": [
            "20 135325707797328\n",
            "10 135325707797008\n"
          ]
        }
      ]
    },
    {
      "cell_type": "code",
      "source": [
        "username=\"gaurav\"\n",
        "greeting=f\"hey user {username}\"\n",
        "\n",
        "print(greeting)\n",
        "username=\"radha\"\n",
        "print(greeting)\n"
      ],
      "metadata": {
        "colab": {
          "base_uri": "https://localhost:8080/"
        },
        "id": "PVajCHFFDyBc",
        "outputId": "4f043dbb-3b5c-4e28-f9f9-0a5990b1f4eb"
      },
      "execution_count": null,
      "outputs": [
        {
          "output_type": "stream",
          "name": "stdout",
          "text": [
            "hey user gaurav\n",
            "hey user gaurav\n"
          ]
        }
      ]
    },
    {
      "cell_type": "code",
      "source": [
        "# slicing operator & indexing\n",
        "\n",
        "state=\"RAJASTHAN\"\n",
        "\n",
        "state[0]\n",
        "state[-2]"
      ],
      "metadata": {
        "colab": {
          "base_uri": "https://localhost:8080/",
          "height": 36
        },
        "id": "4VSXa622FEoU",
        "outputId": "c4173c00-4b5e-4e7a-a03f-f565f6887c1d"
      },
      "execution_count": null,
      "outputs": [
        {
          "output_type": "execute_result",
          "data": {
            "text/plain": [
              "'A'"
            ],
            "application/vnd.google.colaboratory.intrinsic+json": {
              "type": "string"
            }
          },
          "metadata": {},
          "execution_count": 17
        }
      ]
    },
    {
      "cell_type": "code",
      "source": [
        "# slicing operator\n",
        "# slicing [ start : stop : [step=1] ]\n",
        "#slicing that is exclusive\n",
        "\n",
        "state=\"RAJASTHAN\"\n",
        "state[0:4]"
      ],
      "metadata": {
        "colab": {
          "base_uri": "https://localhost:8080/",
          "height": 36
        },
        "id": "MaX7IzDPFcyP",
        "outputId": "28b44ba5-6f74-466e-f210-0596773fcdac"
      },
      "execution_count": null,
      "outputs": [
        {
          "output_type": "execute_result",
          "data": {
            "text/plain": [
              "'RAJA'"
            ],
            "application/vnd.google.colaboratory.intrinsic+json": {
              "type": "string"
            }
          },
          "metadata": {},
          "execution_count": 19
        }
      ]
    },
    {
      "cell_type": "code",
      "source": [
        "state=\"RAJASTHAN\"\n",
        "state[0:7]"
      ],
      "metadata": {
        "colab": {
          "base_uri": "https://localhost:8080/",
          "height": 36
        },
        "id": "VKBPUa3NG74P",
        "outputId": "aac381b9-74c8-4ddf-f610-c7fa3ae2bf3c"
      },
      "execution_count": null,
      "outputs": [
        {
          "output_type": "execute_result",
          "data": {
            "text/plain": [
              "'RAJASTH'"
            ],
            "application/vnd.google.colaboratory.intrinsic+json": {
              "type": "string"
            }
          },
          "metadata": {},
          "execution_count": 20
        }
      ]
    },
    {
      "cell_type": "code",
      "source": [
        "state=\"RAJASTHAN\"\n",
        "state[0:5:2]"
      ],
      "metadata": {
        "colab": {
          "base_uri": "https://localhost:8080/",
          "height": 36
        },
        "id": "E-ztXOlTHJa9",
        "outputId": "c94bceed-791d-44a3-9439-101b3cd98c0d"
      },
      "execution_count": null,
      "outputs": [
        {
          "output_type": "execute_result",
          "data": {
            "text/plain": [
              "'RJS'"
            ],
            "application/vnd.google.colaboratory.intrinsic+json": {
              "type": "string"
            }
          },
          "metadata": {},
          "execution_count": 21
        }
      ]
    },
    {
      "cell_type": "code",
      "source": [
        "state=\"RAJASTHAN\"\n",
        "state[0:4:-1]"
      ],
      "metadata": {
        "colab": {
          "base_uri": "https://localhost:8080/",
          "height": 36
        },
        "id": "1vscmvkAHkiZ",
        "outputId": "c5362aec-389b-4524-bfe1-330f972d2b23"
      },
      "execution_count": null,
      "outputs": [
        {
          "output_type": "execute_result",
          "data": {
            "text/plain": [
              "''"
            ],
            "application/vnd.google.colaboratory.intrinsic+json": {
              "type": "string"
            }
          },
          "metadata": {},
          "execution_count": 22
        }
      ]
    },
    {
      "cell_type": "code",
      "source": [
        "state=\"RAJASTHAN\"\n",
        "state[-1:-4]"
      ],
      "metadata": {
        "colab": {
          "base_uri": "https://localhost:8080/",
          "height": 36
        },
        "id": "jHXqZ117ILXp",
        "outputId": "c347e680-8235-4dfe-b3f8-275816ce6f08"
      },
      "execution_count": null,
      "outputs": [
        {
          "output_type": "execute_result",
          "data": {
            "text/plain": [
              "''"
            ],
            "application/vnd.google.colaboratory.intrinsic+json": {
              "type": "string"
            }
          },
          "metadata": {},
          "execution_count": 23
        }
      ]
    },
    {
      "cell_type": "code",
      "source": [
        "state=\"RAJASTHAN\"\n",
        "state[-1:-4:-1]"
      ],
      "metadata": {
        "colab": {
          "base_uri": "https://localhost:8080/",
          "height": 36
        },
        "id": "UPriRHDWIm6x",
        "outputId": "712d347f-15d9-47a0-e3e8-848b8e21338d"
      },
      "execution_count": null,
      "outputs": [
        {
          "output_type": "execute_result",
          "data": {
            "text/plain": [
              "'NAH'"
            ],
            "application/vnd.google.colaboratory.intrinsic+json": {
              "type": "string"
            }
          },
          "metadata": {},
          "execution_count": 24
        }
      ]
    },
    {
      "cell_type": "code",
      "source": [
        "state=\"RAJASTHAN\"\n",
        "state[-5:-2]"
      ],
      "metadata": {
        "colab": {
          "base_uri": "https://localhost:8080/",
          "height": 36
        },
        "id": "ZnLoyNxSIs1w",
        "outputId": "4582fb10-e150-48d3-d4f9-e19c88dd1476"
      },
      "execution_count": null,
      "outputs": [
        {
          "output_type": "execute_result",
          "data": {
            "text/plain": [
              "'STH'"
            ],
            "application/vnd.google.colaboratory.intrinsic+json": {
              "type": "string"
            }
          },
          "metadata": {},
          "execution_count": 25
        }
      ]
    },
    {
      "cell_type": "code",
      "source": [
        "# operators\n",
        "# **\n",
        "# * / , // %\n",
        "# + -\n",
        "\n",
        "\n",
        "\n",
        "\n"
      ],
      "metadata": {
        "id": "WtBv8jLnJFaF"
      },
      "execution_count": 1,
      "outputs": []
    },
    {
      "cell_type": "code",
      "source": [
        "# comperision operator\n",
        "# var=data , var=<expression>\n",
        "# > , < , >= , <= , != , =="
      ],
      "metadata": {
        "id": "jb-sF3CnByvR"
      },
      "execution_count": 2,
      "outputs": []
    },
    {
      "cell_type": "code",
      "source": [
        "x=10\n",
        "\n",
        "x>20"
      ],
      "metadata": {
        "colab": {
          "base_uri": "https://localhost:8080/"
        },
        "id": "iCnn-MS6CGto",
        "outputId": "facb3587-094e-4f46-954a-32c73b53846d"
      },
      "execution_count": 3,
      "outputs": [
        {
          "output_type": "execute_result",
          "data": {
            "text/plain": [
              "False"
            ]
          },
          "metadata": {},
          "execution_count": 3
        }
      ]
    },
    {
      "cell_type": "code",
      "source": [
        "# assingment operator\n",
        "\n",
        "x=10\n"
      ],
      "metadata": {
        "id": "Bbn0ZWqtCKl0"
      },
      "execution_count": 4,
      "outputs": []
    },
    {
      "cell_type": "code",
      "source": [
        "x=10\n",
        "x=x+5\n",
        "\n",
        "print(x)"
      ],
      "metadata": {
        "colab": {
          "base_uri": "https://localhost:8080/"
        },
        "id": "g39AZBwXCojN",
        "outputId": "cebf13aa-4dfd-4e39-a26b-63c2a6e88137"
      },
      "execution_count": 6,
      "outputs": [
        {
          "output_type": "stream",
          "name": "stdout",
          "text": [
            "15\n"
          ]
        }
      ]
    },
    {
      "cell_type": "code",
      "source": [
        "# logical operator\n",
        "\n",
        "x=10\n",
        "y=20\n",
        "\n",
        "x>=10 and y<20"
      ],
      "metadata": {
        "colab": {
          "base_uri": "https://localhost:8080/"
        },
        "id": "ZtktLeycCuoU",
        "outputId": "a9b57bc5-df0b-4f2f-9db2-52fb80dd8111"
      },
      "execution_count": 7,
      "outputs": [
        {
          "output_type": "execute_result",
          "data": {
            "text/plain": [
              "False"
            ]
          },
          "metadata": {},
          "execution_count": 7
        }
      ]
    },
    {
      "cell_type": "code",
      "source": [
        "x=10\n",
        "y=20\n",
        "\n",
        "x>=10 or  y<20"
      ],
      "metadata": {
        "colab": {
          "base_uri": "https://localhost:8080/"
        },
        "id": "mE78GhpPD2uX",
        "outputId": "b3095fa2-62d2-41a5-a340-e54c09f3bfcb"
      },
      "execution_count": 8,
      "outputs": [
        {
          "output_type": "execute_result",
          "data": {
            "text/plain": [
              "True"
            ]
          },
          "metadata": {},
          "execution_count": 8
        }
      ]
    },
    {
      "cell_type": "code",
      "source": [
        "x=10\n",
        "\n",
        "not(x<10)"
      ],
      "metadata": {
        "colab": {
          "base_uri": "https://localhost:8080/"
        },
        "id": "-rV0TxTPD-GF",
        "outputId": "45476d2d-7ede-4b25-f39e-3cdacb4dacd4"
      },
      "execution_count": 9,
      "outputs": [
        {
          "output_type": "execute_result",
          "data": {
            "text/plain": [
              "True"
            ]
          },
          "metadata": {},
          "execution_count": 9
        }
      ]
    },
    {
      "cell_type": "code",
      "source": [
        "# identity operator\n",
        "\n",
        "# use for finding data type , whether a object belong to certain class or not\n",
        "\n",
        "x=10\n",
        "type(x) is int"
      ],
      "metadata": {
        "colab": {
          "base_uri": "https://localhost:8080/"
        },
        "id": "LLeaXhCKEMGa",
        "outputId": "f37ebc54-53cf-4b09-bb56-103f69c996ff"
      },
      "execution_count": 10,
      "outputs": [
        {
          "output_type": "execute_result",
          "data": {
            "text/plain": [
              "True"
            ]
          },
          "metadata": {},
          "execution_count": 10
        }
      ]
    },
    {
      "cell_type": "code",
      "source": [
        "x=500\n",
        "y=500\n",
        "\n",
        "x==y"
      ],
      "metadata": {
        "colab": {
          "base_uri": "https://localhost:8080/"
        },
        "id": "c9-jMWRdE92p",
        "outputId": "df9d027f-f077-4380-e3ca-256f106df9d9"
      },
      "execution_count": 11,
      "outputs": [
        {
          "output_type": "execute_result",
          "data": {
            "text/plain": [
              "True"
            ]
          },
          "metadata": {},
          "execution_count": 11
        }
      ]
    },
    {
      "cell_type": "code",
      "source": [
        "x is y # \"is \" is used to find memory address\n",
        "\n",
        "print(id(x), id(y))"
      ],
      "metadata": {
        "colab": {
          "base_uri": "https://localhost:8080/"
        },
        "id": "id6LokwiFCwP",
        "outputId": "af61a8c2-1585-4260-9381-bbdfeb8d58d2"
      },
      "execution_count": 13,
      "outputs": [
        {
          "output_type": "stream",
          "name": "stdout",
          "text": [
            "133560330872048 133560330871504\n"
          ]
        }
      ]
    },
    {
      "cell_type": "code",
      "source": [
        "x=500\n",
        "y=x\n",
        "\n",
        "x is y\n",
        "\n",
        "print(id(x), id(y))\n",
        "\n"
      ],
      "metadata": {
        "colab": {
          "base_uri": "https://localhost:8080/"
        },
        "id": "O0yoQdHlFHRv",
        "outputId": "2f4c1ae5-8d00-4ba0-bee3-f9407e6b2ace"
      },
      "execution_count": 14,
      "outputs": [
        {
          "output_type": "stream",
          "name": "stdout",
          "text": [
            "133560330872016 133560330872016\n"
          ]
        }
      ]
    },
    {
      "cell_type": "code",
      "source": [
        "# membership operator\n",
        "\n",
        "\"d\" in \"hello\""
      ],
      "metadata": {
        "colab": {
          "base_uri": "https://localhost:8080/"
        },
        "id": "hDqbXle2Frgg",
        "outputId": "cbb5ba66-3fee-4b0e-cd4d-8713f3d8d3f7"
      },
      "execution_count": 15,
      "outputs": [
        {
          "output_type": "execute_result",
          "data": {
            "text/plain": [
              "False"
            ]
          },
          "metadata": {},
          "execution_count": 15
        }
      ]
    },
    {
      "cell_type": "code",
      "source": [
        "\"lo\" in \"hello\""
      ],
      "metadata": {
        "colab": {
          "base_uri": "https://localhost:8080/"
        },
        "id": "okiHCfh1GqYU",
        "outputId": "0f0f005c-9620-490e-f643-a71a940cbc99"
      },
      "execution_count": 16,
      "outputs": [
        {
          "output_type": "execute_result",
          "data": {
            "text/plain": [
              "True"
            ]
          },
          "metadata": {},
          "execution_count": 16
        }
      ]
    },
    {
      "cell_type": "code",
      "source": [
        "\"le\" in \"hello\""
      ],
      "metadata": {
        "colab": {
          "base_uri": "https://localhost:8080/"
        },
        "id": "S53wPuL1GuZ0",
        "outputId": "41799168-5f04-47b2-912b-59e27c28d5aa"
      },
      "execution_count": 17,
      "outputs": [
        {
          "output_type": "execute_result",
          "data": {
            "text/plain": [
              "False"
            ]
          },
          "metadata": {},
          "execution_count": 17
        }
      ]
    },
    {
      "cell_type": "code",
      "source": [
        "\"lz\" not in \"hello\""
      ],
      "metadata": {
        "colab": {
          "base_uri": "https://localhost:8080/"
        },
        "id": "le_JiEjIG0_r",
        "outputId": "242fcb15-aabc-4fa2-f057-bd26bf2f853c"
      },
      "execution_count": 18,
      "outputs": [
        {
          "output_type": "execute_result",
          "data": {
            "text/plain": [
              "True"
            ]
          },
          "metadata": {},
          "execution_count": 18
        }
      ]
    },
    {
      "cell_type": "code",
      "source": [
        "# conditional statement\n",
        "# if\n",
        "\n",
        "print(\"my age is 60\")"
      ],
      "metadata": {
        "colab": {
          "base_uri": "https://localhost:8080/"
        },
        "id": "yilMyGUoG7D7",
        "outputId": "1c12a450-66a2-4168-f6de-e14053830a9b"
      },
      "execution_count": 19,
      "outputs": [
        {
          "output_type": "stream",
          "name": "stdout",
          "text": [
            "my age is 60\n"
          ]
        }
      ]
    },
    {
      "cell_type": "code",
      "source": [
        "x=10\n",
        "\n",
        "if(True):\n",
        "  print(\"hello\")\n",
        "else:\n",
        "  print(\"false\")"
      ],
      "metadata": {
        "colab": {
          "base_uri": "https://localhost:8080/"
        },
        "id": "soqbPRjkHQ7e",
        "outputId": "3dfb20ae-68df-40c1-cde6-4487fdf2a888"
      },
      "execution_count": 22,
      "outputs": [
        {
          "output_type": "stream",
          "name": "stdout",
          "text": [
            "hello\n"
          ]
        }
      ]
    },
    {
      "cell_type": "code",
      "source": [
        "x=10\n",
        "\n",
        "if(x>10):\n",
        "  print(\"hello\")\n",
        "else:\n",
        "  print(\"false\")"
      ],
      "metadata": {
        "colab": {
          "base_uri": "https://localhost:8080/"
        },
        "id": "22TRSfSoIM9F",
        "outputId": "67434b3f-ea48-4c06-f292-abb73c949791"
      },
      "execution_count": 23,
      "outputs": [
        {
          "output_type": "stream",
          "name": "stdout",
          "text": [
            "false\n"
          ]
        }
      ]
    },
    {
      "cell_type": "code",
      "source": [
        "x=18\n",
        "\n",
        "if(x%2== 0):\n",
        "  print(\"even\")\n",
        "else:\n",
        "  print(\"odd\")"
      ],
      "metadata": {
        "colab": {
          "base_uri": "https://localhost:8080/"
        },
        "id": "iNQJIAe-IqTD",
        "outputId": "b7869ab6-8c57-4d62-a477-a4812130b576"
      },
      "execution_count": 26,
      "outputs": [
        {
          "output_type": "stream",
          "name": "stdout",
          "text": [
            "even\n"
          ]
        }
      ]
    },
    {
      "cell_type": "code",
      "source": [
        "x= 12\n",
        "b=2\n",
        "c=10\n",
        "\n",
        "if(x>b and x>c):\n",
        "  print(\"x is max\")\n",
        "elif(b<c and b<c):\n",
        "  print(\"b is max \")\n",
        "else:\n",
        "  print(\"c is max\")\n",
        "\n"
      ],
      "metadata": {
        "colab": {
          "base_uri": "https://localhost:8080/"
        },
        "id": "NT_JAwJjLI7y",
        "outputId": "ca81cfda-b00f-4bde-c7dd-65b4b41c4375"
      },
      "execution_count": 27,
      "outputs": [
        {
          "output_type": "stream",
          "name": "stdout",
          "text": [
            "x is max\n"
          ]
        }
      ]
    },
    {
      "cell_type": "code",
      "source": [
        "age=18\n",
        "email=\"gmail.com\"\n",
        "\n",
        "if(age==18):\n",
        "  if(email==\"gmail.com\"):\n",
        "    print(\"allowed in airport\")\n",
        "  else:\n",
        "        print(\"email is wrong\")\n",
        "\n",
        "else:\n",
        "    print(\"not allowed\")\n"
      ],
      "metadata": {
        "colab": {
          "base_uri": "https://localhost:8080/"
        },
        "id": "PjboM-d3McyR",
        "outputId": "545fff1c-4e85-4ca5-baeb-145ceb16a092"
      },
      "execution_count": 29,
      "outputs": [
        {
          "output_type": "stream",
          "name": "stdout",
          "text": [
            "allowed in airport\n"
          ]
        }
      ]
    },
    {
      "cell_type": "code",
      "source": [
        "# programme for leap year\n",
        "\n",
        "year=2024\n",
        "\n",
        "if(year %  4 == 0 and year % 100 !=0) or (year % 400 ==0):\n",
        "  print(\"leap year\")\n",
        "else:\n",
        "    print(\"not a leap year\")"
      ],
      "metadata": {
        "colab": {
          "base_uri": "https://localhost:8080/"
        },
        "id": "pcm471W1N1D-",
        "outputId": "e485b7c2-5746-42bc-adb4-85a86cde8f5c"
      },
      "execution_count": 32,
      "outputs": [
        {
          "output_type": "stream",
          "name": "stdout",
          "text": [
            "leap year\n"
          ]
        }
      ]
    },
    {
      "cell_type": "code",
      "source": [],
      "metadata": {
        "id": "KiQHcQB-Oh4p"
      },
      "execution_count": null,
      "outputs": []
    }
  ]
}